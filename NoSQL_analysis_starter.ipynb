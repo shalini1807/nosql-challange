{
 "cells": [
  {
   "cell_type": "markdown",
   "id": "9a57c4c6",
   "metadata": {},
   "source": [
    "# Eat Safe, Love"
   ]
  },
  {
   "cell_type": "markdown",
   "id": "064ef857",
   "metadata": {},
   "source": [
    "## Notebook Set Up"
   ]
  },
  {
   "cell_type": "code",
   "execution_count": null,
   "id": "3ecdd008",
   "metadata": {},
   "outputs": [],
   "source": [
    "from pymongo import MongoClient\n",
    "import pandas as pd\n",
    "from pprint import pprint"
   ]
  },
  {
   "cell_type": "code",
   "execution_count": null,
   "id": "59390c4a",
   "metadata": {},
   "outputs": [],
   "source": [
    "# Create an instance of MongoClient\n",
    "mongo = MongoClient(port=27017)"
   ]
  },
  {
   "cell_type": "code",
   "execution_count": null,
   "id": "71e373c1",
   "metadata": {},
   "outputs": [],
   "source": [
    "# assign the uk_food database to a variable name\n",
    "db = mongo['uk_food']"
   ]
  },
  {
   "cell_type": "code",
   "execution_count": null,
   "id": "18ab463c",
   "metadata": {},
   "outputs": [],
   "source": [
    "# review the collections in our database\n",
    "print(db.list_collection_names())"
   ]
  },
  {
   "cell_type": "code",
   "execution_count": null,
   "id": "11c9f11b",
   "metadata": {},
   "outputs": [],
   "source": [
    "# assign the collection to a variable\n",
    "establishments = db['establishments']"
   ]
  },
  {
   "cell_type": "markdown",
   "id": "d5671434",
   "metadata": {},
   "source": [
    "## Part 3: Exploratory Analysis\n",
    "Unless otherwise stated, for each question: \n",
    "* Use `count_documents` to display the number of documents contained in the result.\n",
    "* Display the first document in the results using `pprint`.\n",
    "* Convert the result to a Pandas DataFrame, print the number of rows in the DataFrame, and display the first 10 rows."
   ]
  },
  {
   "cell_type": "markdown",
   "id": "314bd884",
   "metadata": {},
   "source": [
    "### 1. Which establishments have a hygiene score equal to 20?"
   ]
  },
  {
   "cell_type": "code",
   "execution_count": null,
   "id": "eafc720f",
   "metadata": {},
   "outputs": [],
   "source": [
    "documents = establishments.find_one()\n",
    "pprint(documents)\n"
   ]
  },
  {
   "cell_type": "code",
   "execution_count": null,
   "id": "c2da7648",
   "metadata": {},
   "outputs": [],
   "source": [
    "# Find the establishments with a hygiene score of 20\n",
    "query = {'scores.Hygiene': 20}\n",
    "\n",
    "# Use count_documents to display the number of documents in the result\n",
    "count = establishments.count_documents(query)\n",
    "print(\"Number of documents in result:\", count)\n",
    "\n",
    "# Display the first document in the results using pprint\n",
    "First_document = establishments.find_one(query)\n",
    "print(\"First Document\")\n",
    "pprint(First_document)"
   ]
  },
  {
   "cell_type": "code",
   "execution_count": null,
   "id": "a6e5cece",
   "metadata": {
    "scrolled": true
   },
   "outputs": [],
   "source": [
    "results = establishments.find(query)\n",
    "# Convert the result to a Pandas DataFrame\n",
    "df = pd.DataFrame(results)\n",
    "\n",
    "# Display the number of rows in the DataFrame\n",
    "num_rows = len(df)\n",
    "print(f\"Number of rows: {num_rows}\")\n",
    "\n",
    "\n",
    "# Display the first 10 rows of the DataFrame\n",
    "df.head(10)"
   ]
  },
  {
   "cell_type": "markdown",
   "id": "0ef4395a",
   "metadata": {},
   "source": [
    "### 2. Which establishments in London have a `RatingValue` greater than or equal to 4?"
   ]
  },
  {
   "cell_type": "code",
   "execution_count": null,
   "id": "80e59fab",
   "metadata": {},
   "outputs": [],
   "source": [
    "#checking the column type\n",
    "sample_document = establishments.find_one()\n",
    "\n",
    "# Check the types of each field in the sample document\n",
    "if sample_document:\n",
    "    print(\"Field Types in Sample Document:\")\n",
    "    for key, value in sample_document.items():\n",
    "        print(f\"{key}: {type(value).__name__}\")\n",
    "else:\n",
    "    print(\"No documents found in the collection.\")\n"
   ]
  },
  {
   "cell_type": "code",
   "execution_count": null,
   "id": "b4810675",
   "metadata": {},
   "outputs": [],
   "source": [
    "query_broad = {\"LocalAuthorityName\": {\"$regex\": \"London\", \"$options\": \"i\"}}\n",
    "documents_broad = list(establishments.find(query_broad))\n",
    "print(\"Documents in London (broad query):\")\n",
    "pprint(documents_broad)\n"
   ]
  },
  {
   "cell_type": "code",
   "execution_count": null,
   "id": "cbb1c3d6",
   "metadata": {},
   "outputs": [],
   "source": [
    "total_count = establishments.count_documents({})\n",
    "print(\"Total number of documents in the collection:\", total_count)\n",
    "\n",
    "london_count = establishments.count_documents({\"LocalAuthorityName\": {\"$regex\": \"London\", \"$options\": \"i\"}})\n",
    "print(\"Number of establishments with LocalAuthorityName containing 'London':\", london_count)\n",
    "\n",
    "sample_documents = list(establishments.find().limit(5))  # Get a few sample documents\n",
    "print(\"Sample Documents:\")\n",
    "pprint(sample_documents)\n",
    "\n",
    "\n"
   ]
  },
  {
   "cell_type": "code",
   "execution_count": null,
   "id": "21e6131a",
   "metadata": {},
   "outputs": [],
   "source": [
    "query = {\"RatingValue\": {\"$gte\": 4 } }\n",
    "rv = establishments.find_one(query)\n",
    "pprint(rv)"
   ]
  },
  {
   "cell_type": "code",
   "execution_count": null,
   "id": "60b6ea50",
   "metadata": {},
   "outputs": [],
   "source": [
    "query = {\n",
    "    \"LocalAuthorityName\": {\"$regex\": \"London\", \"$options\": \"i\"},\n",
    "    \"RatingValue\": {\"$gte\": 4}  # Using $gte to match documents with RatingValue of 4 or higher\n",
    "}\n",
    "\n",
    "# Count matching documents\n",
    "count = establishments.count_documents(query)\n",
    "print(\"Number of establishments in London with RatingValue 4 or higher:\", count)\n",
    "\n",
    "# Fetch and display first 10 matching documents\n",
    "documents = list(establishments.find(query))\n",
    "print(\"First 10 Documents:\")\n",
    "from pprint import pprint\n",
    "pprint(documents[:10])  # Print the first 10 documents\n"
   ]
  },
  {
   "cell_type": "code",
   "execution_count": null,
   "id": "36ede654",
   "metadata": {},
   "outputs": [],
   "source": [
    "query = {\n",
    "    \"LocalAuthorityName\": {\"$regex\": \"London\", \"$options\": \"i\"},\n",
    "    \"RatingValue\": {\"$in\": [4,5]}\n",
    "}\n",
    "\n",
    "# Find all documents that match the query\n",
    "documents = list(establishments.find(query))\n",
    "\n",
    "# Use count_documents to display the number of documents in the result\n",
    "count = establishments.count_documents(query)\n",
    "print(\"Number of establishments in London with RatingValue >= 4:\", count)\n"
   ]
  },
  {
   "cell_type": "code",
   "execution_count": null,
   "id": "11bd647d",
   "metadata": {},
   "outputs": [],
   "source": [
    "# Find the establishments with London as the Local Authority and has a RatingValue greater than or equal to 4.\n",
    "query = {\n",
    "    \"LocalAuthorityName\": {\"$regex\": \"London\", \"$options\": \"i\"},  # Case-insensitive match for 'London'\n",
    "    \"RatingValue\": {\"$gte\": 4}  # RatingValue greater than or equal to 4\n",
    "}\n",
    "\n",
    "# Find all documents that match the query\n",
    "documents = list(establishments.find(query))\n",
    "\n",
    "# Use count_documents to display the number of documents in the result\n",
    "count = establishments.count_documents(query)\n",
    "print(\"Number of establishments in London with RatingValue >= 4:\", count)\n",
    "\n",
    "# Display the first 10 documents in the results using pprint\n",
    "print(\"First 10 Documents:\")\n",
    "pprint(documents[:10])  # Print the first 10 documents\n"
   ]
  },
  {
   "cell_type": "code",
   "execution_count": null,
   "id": "07e24ccb",
   "metadata": {},
   "outputs": [],
   "source": [
    "# Convert the result to a Pandas DataFrame\n",
    "documents = list(establishments.find(query))\n",
    "\n",
    "# Create a DataFrame from the documents\n",
    "london_df = pd.DataFrame(documents)\n",
    "\n",
    "# Display the number of rows in the DataFrame\n",
    "print(\"Number of documents in DataFrame:\", len(london_df))\n",
    "\n",
    "# Display the first document\n",
    "london_df.head(10)\n"
   ]
  },
  {
   "cell_type": "markdown",
   "id": "4e570caf",
   "metadata": {},
   "source": [
    "### 3. What are the top 5 establishments with a `RatingValue` rating value of 5, sorted by lowest hygiene score, nearest to the new restaurant added, \"Penang Flavours\"?"
   ]
  },
  {
   "cell_type": "code",
   "execution_count": null,
   "id": "7293712c",
   "metadata": {},
   "outputs": [],
   "source": [
    "pprint(establishments.find_one({\"BusinessName\":\"Penang Flavours\"}))"
   ]
  },
  {
   "cell_type": "code",
   "execution_count": null,
   "id": "5210d27f",
   "metadata": {},
   "outputs": [],
   "source": [
    "#checking the column type\n",
    "sample_document = establishments.find_one()\n",
    "\n",
    "# Check the types of each field in the sample document\n",
    "if sample_document:\n",
    "    print(\"Field Types in Sample Document:\")\n",
    "    for key, value in sample_document.items():\n",
    "        print(f\"{key}: {type(value).__name__}\")\n",
    "else:\n",
    "    print(\"No documents found in the collection.\")\n"
   ]
  },
  {
   "cell_type": "code",
   "execution_count": null,
   "id": "0c18802d",
   "metadata": {},
   "outputs": [],
   "source": [
    "# Print all documents to see their structure\n",
    "#all_documents = list(establishments.find())\n",
    "#print(\"All Documents:\")\n",
    "#for doc in all_documents:\n",
    "#    print(doc)\n",
    "\n",
    "# Check for documents with RatingValue of 5\n",
    "#rating_value_5_docs = list(establishments.find({\"RatingValue\": 5}))\n",
    "#print(\"Documents with RatingValue of 5:\")\n",
    "#for doc in rating_value_5_docs:\n",
    " #   print(doc)\n",
    "\n",
    "# Check for documents within the latitude and longitude range\n",
    "latitude_range_docs = list(establishments.find({\n",
    "    \"geocode.latitude\": {\n",
    "        \"$gte\": latitude - degree_search,\n",
    "        \"$lte\": latitude + degree_search\n",
    "    },\n",
    "    \"geocode.longitude\": {\n",
    "        \"$gte\": longitude - degree_search,\n",
    "        \"$lte\": longitude + degree_search\n",
    "    }\n",
    "}))\n",
    "print(\"Documents within latitude and longitude range:\")\n",
    "for doc in latitude_range_docs:\n",
    "    print(doc)\n"
   ]
  },
  {
   "cell_type": "code",
   "execution_count": null,
   "id": "65b2b939",
   "metadata": {},
   "outputs": [],
   "source": [
    "test_query = {\n",
    "    \"geocode.latitude\": {\"$exists\": True},\n",
    "    \"geocode.longitude\": {\"$exists\": True}\n",
    "}\n",
    "\n",
    "test_docs = list(establishments.find(test_query))\n",
    "print(\"Documents with latitude and longitude fields:\")\n",
    "for doc in test_docs:\n",
    "    print(doc)\n"
   ]
  },
  {
   "cell_type": "code",
   "execution_count": null,
   "id": "b87b7076",
   "metadata": {},
   "outputs": [],
   "source": [
    "establishments.update_many(\n",
    "    {\"geocode.latitude\": {\"$type\": \"string\"}},\n",
    "    [{\"$set\": {\"geocode.latitude\": {\"$toDouble\": \"$geocode.latitude\"}}}]\n",
    ")\n",
    "\n",
    "establishments.update_many(\n",
    "    {\"geocode.longitude\": {\"$type\": \"string\"}},\n",
    "    [{\"$set\": {\"geocode.longitude\": {\"$toDouble\": \"$geocode.longitude\"}}}]\n",
    ")\n"
   ]
  },
  {
   "cell_type": "code",
   "execution_count": null,
   "id": "7f599f3d",
   "metadata": {},
   "outputs": [],
   "source": [
    "# Search within 0.01 degree on either side of the latitude and longitude.\n",
    "# Rating value must equal 5\n",
    "# Sort by hygiene score\n",
    "\n",
    "degree_search = 0.01\n",
    "latitude = 51.49014200  \n",
    "longitude = 0.08384000   \n",
    "\n",
    "query = {\n",
    "    \"RatingValue\": 5,\n",
    "    \"geocode.latitude\": {\n",
    "        \"$gte\": latitude - degree_search,\n",
    "        \"$lte\": latitude + degree_search\n",
    "    },\n",
    "    \"geocode.longitude\": {\n",
    "        \"$gte\": longitude - degree_search,\n",
    "        \"$lte\": longitude + degree_search\n",
    "    }\n",
    "}\n",
    "\n",
    "# Step 3: Define sorting by hygiene score in ascending order\n",
    "sort = [(\"scores.Hygiene\", 1)]\n",
    "\n",
    "# Print the results\n",
    "results = list(establishments.find(query).sort(sort).limit(5))\n",
    "print(results)\n",
    "\n"
   ]
  },
  {
   "cell_type": "code",
   "execution_count": null,
   "id": "a6ad16f7",
   "metadata": {},
   "outputs": [],
   "source": [
    "# Convert result to Pandas DataFrame\n",
    "df = pd.DataFrame(results)\n",
    "df"
   ]
  },
  {
   "cell_type": "markdown",
   "id": "67281254",
   "metadata": {},
   "source": [
    "### 4. How many establishments in each Local Authority area have a hygiene score of 0?"
   ]
  },
  {
   "cell_type": "code",
   "execution_count": null,
   "id": "4eeb227e",
   "metadata": {},
   "outputs": [],
   "source": [
    "# Create a pipeline that:\n",
    "# 1. Matches establishments with a hygiene score of 0\n",
    "match_query =     {'$match': {'scores.Hygiene': 0}}\n",
    "\n",
    "# 2. Groups the matches by Local Authority\n",
    "group_query =     {'$group': {\n",
    "        '_id': '$LocalAuthorityName',\n",
    "        'count': {'$sum': 1}\n",
    "    }\n",
    "}\n",
    "\n",
    "# 3. Sorts the matches from highest to lowest\n",
    "sort_query =     {'$sort': {'count': -1}}\n",
    "\n",
    "pipeline = [match_query,group_query,sort_query]\n",
    "results = list(establishments.aggregate(pipeline))\n",
    "\n",
    "# Print the number of documents in the result\n",
    "print(f\"Number of documents in the result: {len(results)}\")\n",
    "\n",
    "# Print the first 10 results\n",
    "print(results[:10])\n"
   ]
  },
  {
   "cell_type": "code",
   "execution_count": null,
   "id": "d8aab364",
   "metadata": {},
   "outputs": [],
   "source": [
    "# Convert the result to a Pandas DataFrame\n",
    "hygiene_df = pd.DataFrame(results)\n",
    "# Display the number of rows in the DataFrame\n",
    "rows = len(hygiene_df)\n",
    "print(rows)\n",
    "\n",
    "# Display the first 10 rows of the DataFrame\n",
    "hygiene_df.head(10)"
   ]
  }
 ],
 "metadata": {
  "kernelspec": {
   "display_name": "dev",
   "language": "python",
   "name": "python3"
  },
  "language_info": {
   "codemirror_mode": {
    "name": "ipython",
    "version": 3
   },
   "file_extension": ".py",
   "mimetype": "text/x-python",
   "name": "python",
   "nbconvert_exporter": "python",
   "pygments_lexer": "ipython3",
   "version": "3.10.14"
  }
 },
 "nbformat": 4,
 "nbformat_minor": 5
}
